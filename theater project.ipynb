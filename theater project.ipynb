{
 "cells": [
  {
   "cell_type": "code",
   "execution_count": null,
   "id": "461f5034-6824-4151-baf3-45b11f90c9e9",
   "metadata": {},
   "outputs": [
    {
     "name": "stdout",
     "output_type": "stream",
     "text": [
      "welcome to citypride\n",
      "**************************************************\n",
      "press 1 for jawan press 2 for tiger-3 press 3 for naal-2\n"
     ]
    },
    {
     "name": "stdin",
     "output_type": "stream",
     "text": [
      "enter your name please 2\n",
      "enter yor mobile no 2\n",
      "enter movie no 2\n"
     ]
    },
    {
     "name": "stdout",
     "output_type": "stream",
     "text": [
      "tiger\n"
     ]
    },
    {
     "name": "stdin",
     "output_type": "stream",
     "text": [
      "enter age  22\n"
     ]
    },
    {
     "name": "stdout",
     "output_type": "stream",
     "text": [
      "go for movie tickits\n",
      "press 1 for Silver Seat Price = 300\n",
      "            press 2 for Gold Seat Price  = 400\n",
      "            press 3 Premium Seat Price = 500\n",
      "            press 4 Royal sofa Seat Price = 700\n"
     ]
    },
    {
     "name": "stdin",
     "output_type": "stream",
     "text": [
      "enter type of seats 2\n"
     ]
    },
    {
     "name": "stdout",
     "output_type": "stream",
     "text": [
      "gold\n"
     ]
    },
    {
     "name": "stdin",
     "output_type": "stream",
     "text": [
      "enter no of tickites 3\n"
     ]
    },
    {
     "name": "stdout",
     "output_type": "stream",
     "text": [
      "total tickit cost: 3 x 400 = Rs 1200\n",
      "remaining seats count: 97\n"
     ]
    },
    {
     "name": "stdin",
     "output_type": "stream",
     "text": [
      "Do You Want To Add Combo? yes/no :  no\n"
     ]
    },
    {
     "name": "stdout",
     "output_type": "stream",
     "text": [
      " popcorn (medium size) + coke 350ml for 200/-\n"
     ]
    },
    {
     "name": "stdin",
     "output_type": "stream",
     "text": [
      "how many combos do you want?? 2\n"
     ]
    },
    {
     "name": "stdout",
     "output_type": "stream",
     "text": [
      "--------------------------------------------------\n",
      "welcome to  Citypride\n",
      "           pune\n",
      "--------------------------------------------------\n",
      "2\n",
      "2\n",
      "2\n",
      "Ticket Cost: 1200\n",
      "Combo Cost: ('your combo bill is:', 2, 'x', 200, '=', 400)\n",
      "total Cost: 1600\n",
      "--------------------------------------------------\n",
      "Visit Again Soon! Hope You Enjoy Your Time...\n",
      "--------------------------------------------------\n"
     ]
    },
    {
     "name": "stdin",
     "output_type": "stream",
     "text": [
      "enter your name please 1\n",
      "enter yor mobile no 2\n",
      "enter movie no 3\n"
     ]
    },
    {
     "name": "stdout",
     "output_type": "stream",
     "text": [
      "naal-2\n"
     ]
    },
    {
     "name": "stdin",
     "output_type": "stream",
     "text": [
      "enter age  22\n"
     ]
    },
    {
     "name": "stdout",
     "output_type": "stream",
     "text": [
      "go for movie tickits\n",
      "press 1 for Silver Seat Price = 300\n",
      "            press 2 for Gold Seat Price  = 400\n",
      "            press 3 Premium Seat Price = 500\n",
      "            press 4 Royal sofa Seat Price = 700\n"
     ]
    },
    {
     "name": "stdin",
     "output_type": "stream",
     "text": [
      "enter type of seats 2\n"
     ]
    },
    {
     "name": "stdout",
     "output_type": "stream",
     "text": [
      "gold\n"
     ]
    },
    {
     "name": "stdin",
     "output_type": "stream",
     "text": [
      "enter no of tickites 2\n"
     ]
    },
    {
     "name": "stdout",
     "output_type": "stream",
     "text": [
      "total tickit cost: 2 x 400 = Rs 800\n",
      "remaining seats count: 98\n"
     ]
    },
    {
     "name": "stdin",
     "output_type": "stream",
     "text": [
      "Do You Want To Add Combo? yes/no :  no\n"
     ]
    },
    {
     "name": "stdout",
     "output_type": "stream",
     "text": [
      " popcorn (medium size) + coke 350ml for 200/-\n"
     ]
    },
    {
     "name": "stdin",
     "output_type": "stream",
     "text": [
      "how many combos do you want?? 1\n"
     ]
    },
    {
     "name": "stdout",
     "output_type": "stream",
     "text": [
      "--------------------------------------------------\n",
      "welcome to  Citypride\n",
      "           pune\n",
      "--------------------------------------------------\n",
      "1\n",
      "3\n",
      "2\n",
      "Ticket Cost: 800\n",
      "Combo Cost: ('your combo bill is:', 1, 'x', 200, '=', 200)\n",
      "total Cost: 1000\n",
      "--------------------------------------------------\n",
      "Visit Again Soon! Hope You Enjoy Your Time...\n",
      "--------------------------------------------------\n"
     ]
    },
    {
     "name": "stdin",
     "output_type": "stream",
     "text": [
      "enter your name please 1\n",
      "enter yor mobile no 2\n",
      "enter movie no 3\n"
     ]
    },
    {
     "name": "stdout",
     "output_type": "stream",
     "text": [
      "naal-2\n"
     ]
    },
    {
     "name": "stdin",
     "output_type": "stream",
     "text": [
      "enter age  3\n"
     ]
    },
    {
     "name": "stdout",
     "output_type": "stream",
     "text": [
      "not for below 18\n",
      "press 1 for Silver Seat Price = 300\n",
      "            press 2 for Gold Seat Price  = 400\n",
      "            press 3 Premium Seat Price = 500\n",
      "            press 4 Royal sofa Seat Price = 700\n"
     ]
    },
    {
     "name": "stdin",
     "output_type": "stream",
     "text": [
      "enter type of seats 4\n"
     ]
    },
    {
     "name": "stdout",
     "output_type": "stream",
     "text": [
      "royal sofa\n"
     ]
    },
    {
     "name": "stdin",
     "output_type": "stream",
     "text": [
      "enter no of tickites 2\n"
     ]
    },
    {
     "name": "stdout",
     "output_type": "stream",
     "text": [
      "total tickit cost: 2 x 700 = Rs 1400\n",
      "remaining seats count: 33\n"
     ]
    },
    {
     "name": "stdin",
     "output_type": "stream",
     "text": [
      "Do You Want To Add Combo? yes/no :  no\n"
     ]
    },
    {
     "name": "stdout",
     "output_type": "stream",
     "text": [
      " popcorn (medium size) + coke 350ml for 200/-\n"
     ]
    },
    {
     "name": "stdin",
     "output_type": "stream",
     "text": [
      "how many combos do you want?? 1\n"
     ]
    },
    {
     "name": "stdout",
     "output_type": "stream",
     "text": [
      "--------------------------------------------------\n",
      "welcome to  Citypride\n",
      "           pune\n",
      "--------------------------------------------------\n",
      "1\n",
      "3\n",
      "4\n",
      "Ticket Cost: 1400\n",
      "Combo Cost: ('your combo bill is:', 1, 'x', 200, '=', 200)\n",
      "total Cost: 1600\n",
      "--------------------------------------------------\n",
      "Visit Again Soon! Hope You Enjoy Your Time...\n",
      "--------------------------------------------------\n"
     ]
    }
   ],
   "source": [
    "print(\"welcome to citypride\")\n",
    "print(\"*\"*50)\n",
    "print(\"press 1 for jawan\",\n",
    "\"press 2 for tiger-3\",\n",
    "\"press 3 for naal-2\" )\n",
    "while True:\n",
    "    name=input(\"enter your name please\")\n",
    "    mobile_no=int(input(\"enter yor mobile no\"))\n",
    "    movie= int(input(\"enter movie no\"))\n",
    "    if movie==1:\n",
    "        print(\"jawan\")\n",
    "    elif movie==2:\n",
    "        print(\"tiger\")\n",
    "    elif movie==3:\n",
    "        print(\"naal-2\")\n",
    "    else:\n",
    "        print(\"enter valid no or try again\")\n",
    "    age= int(input(\"enter age \"))\n",
    "    if age>=18:\n",
    "        print( \"go for movie tickits\")\n",
    "    else:\n",
    "        print(\"not for below 18\")\n",
    "    print(\"\"\"press 1 for Silver Seat Price = 300\n",
    "            press 2 for Gold Seat Price  = 400\n",
    "            press 3 Premium Seat Price = 500\n",
    "            press 4 Royal sofa Seat Price = 700\"\"\")\n",
    "    silver_seat = 75\n",
    "    gold_seat = 100\n",
    "    platinum_seat= 125\n",
    "    royal_sofa_seat= 35\n",
    "    \n",
    "    type =int(input(\"enter type of seats\"))\n",
    "    if type== 1:\n",
    "        print(\"silver\")\n",
    "        n = int(input(\"enter no of tickites\"))\n",
    "        print(\"total tickit cost:\",n ,\"x\",300,\"=\",\"Rs\",n*300)\n",
    "        print (\"remaining seats count:\",75-n)\n",
    "        amt=n*300\n",
    "        if n <= silver_seat:\n",
    "                silver_seat -= n\n",
    "        else:\n",
    "            print(\"House Full! Please Try Other seat type\")\n",
    "            continue\n",
    "    elif type==2:\n",
    "         print(\"gold\")\n",
    "         n = int(input(\"enter no of tickites\"))\n",
    "         print(\"total tickit cost:\",n ,\"x\",400,\"=\",\"Rs\",n*400)\n",
    "         print (\"remaining seats count:\",gold_seat-n)\n",
    "         amt= n*400\n",
    "         if n <= gold_seat:\n",
    "                gold_seat -= n\n",
    "         else:\n",
    "            print(\"House Full! Please Try Other seat type\")\n",
    "            continue\n",
    "    elif type==3:\n",
    "        print(\"platinum\")\n",
    "        n = int(input(\"enter no of tickites\"))\n",
    "        print(\"total tickit cost:\",n ,\"x\",500,\"=\",\"Rs\",n*500)\n",
    "        print (\"remaining seats count:\",platinum_seat-n)\n",
    "        amt=n*500\n",
    "        if n <= platinum_seat:\n",
    "                platinum_seat -= n\n",
    "        else:\n",
    "            print(\"House Full! Please Try Other seat type\")\n",
    "            continue\n",
    "    elif type==4:\n",
    "        print(\"royal sofa\")\n",
    "        n = int(input(\"enter no of tickites\"))\n",
    "        print(\"total tickit cost:\",n ,\"x\",700,\"=\",\"Rs\",n*700)\n",
    "        print (\"remaining seats count:\",royal_sofa_seat-n)\n",
    "        amt=n*700\n",
    "        if n <= royal_sofa_seat:\n",
    "                royal_sofa_seat -= n\n",
    "        else:\n",
    "            print(\"House Full! Please Try Other seat type\")\n",
    "            continue\n",
    "    else:\n",
    "        print(\"please enter valid no\")\n",
    "        continue\n",
    "    print(\"do you want to add combo??\")\n",
    "    \n",
    "    combo=str(input(\"yes\"))\n",
    "    if combo==\"yes\"\n",
    "    \n",
    "  \n",
    "        print(\"\"\" popcorn (medium size) + coke 350ml for 200/-\"\"\")\n",
    "        q=int(input(\"how many combos do you want??\"))\n",
    "        combo_total=(\"your combo bill is:\",q,\"x\",200,\"=\",q*200)\n",
    "        c=q*200\n",
    "        \n",
    "        print(\"-\"*50)\n",
    "        print(\"welcome to  Citypride\")\n",
    "        print(\"           pune\")\n",
    "        print(\"-\"*50)\n",
    "        print(name)\n",
    "        print(movie)\n",
    "        print(type)\n",
    "        print(\"Ticket Cost:\",amt)\n",
    "        print(\"Combo Cost:\", combo_total)\n",
    "        print(\"total Cost:\", (amt+c))\n",
    "        print(\"-\"*50)\n",
    "        print(\"Visit Again Soon! Hope You Enjoy Your Time...\")\n",
    "        print(\"-\"*50)\n",
    "    else:\n",
    "        print(\"-\"*50)\n",
    "        print(\"welcome to  Citypride\")\n",
    "        print(\"           pune\")\n",
    "        print(\"-\"*50)\n",
    "        print(\"Ticket Cost:\",amt)\n",
    "        print(\"-\"*50)\n",
    "        print(\"Visit Again Soon! Hope You Enjoy Your Time...\")\n",
    "        print(\"-\"*50)\n",
    "        next_cust=(str(input(\"Do You Want to Add Next Customer? yes/no\")))\n",
    "        if next_cust==\"yes\":\n",
    "            print(\"Available Seat Silver\", silver_seat)\n",
    "            print(\"Available Seat Gold\", gold_seat)\n",
    "            print(\"Available Seat Platinum\", platinum_seat)\n",
    "            print(\"avilable seat royal sofa\",royal_sofa_seat)\n",
    "            continue\n",
    "        else:\n",
    "            break\n",
    "        \n",
    "        \n",
    "        \n",
    "        \n",
    "    \n",
    "\n",
    "\n",
    "    \n",
    "\n",
    "    \n",
    "    \n",
    "    \n",
    "\n",
    "\n"
   ]
  }
 ],
 "metadata": {
  "kernelspec": {
   "display_name": "Python 3 (ipykernel)",
   "language": "python",
   "name": "python3"
  },
  "language_info": {
   "codemirror_mode": {
    "name": "ipython",
    "version": 3
   },
   "file_extension": ".py",
   "mimetype": "text/x-python",
   "name": "python",
   "nbconvert_exporter": "python",
   "pygments_lexer": "ipython3",
   "version": "3.12.0"
  }
 },
 "nbformat": 4,
 "nbformat_minor": 5
}
